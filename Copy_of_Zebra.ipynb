{
  "nbformat": 4,
  "nbformat_minor": 0,
  "metadata": {
    "colab": {
      "provenance": [],
      "authorship_tag": "ABX9TyN6FTqn7uEVzVqXS07tjbTu"
    },
    "kernelspec": {
      "name": "python3",
      "display_name": "Python 3"
    },
    "language_info": {
      "name": "python"
    }
  },
  "cells": [
    {
      "cell_type": "code",
      "execution_count": null,
      "metadata": {
        "id": "hJ2UGAav9G1I"
      },
      "outputs": [],
      "source": [
        "from google.colab import files\n",
        "uploaded = files.upload\n",
        "\n",
        "import pandas as pd\n",
        "import json"
      ]
    },
    {
      "cell_type": "code",
      "source": [
        "with open('rsmdd_master_list.json', 'r') as f:\n",
        "    data = json.load(f)\n",
        "\n",
        "df = pd.json_normalize(data['data'])\n",
        "\n",
        "selected_columns = df[['attributeID' , 'commonAttributeDetails.description' , 'commonAttributeDetails.otherDescription']]\n",
        "\n",
        "unique_rows = selected_columns.drop_duplicates()\n",
        "\n",
        "columns_to_check = ['commonAttributeDetails.description']\n",
        "values_to_check = ['Not Available']\n",
        "filtered_rows = unique_rows[~unique_rows[columns_to_check].isin(values_to_check).any(axis=1)]\n",
        "\n",
        "print(filtered_rows)"
      ],
      "metadata": {
        "colab": {
          "base_uri": "https://localhost:8080/"
        },
        "id": "tXPEsqPYQvn0",
        "outputId": "f02253f4-b561-4c31-c2a1-86f549a10455"
      },
      "execution_count": null,
      "outputs": [
        {
          "output_type": "stream",
          "name": "stdout",
          "text": [
            "     attributeID                 commonAttributeDetails.description  \\\n",
            "0              0                        enables or disables Code 39   \n",
            "2              1                          enables or disables UPC-A   \n",
            "4              2                                      enables UPC-E   \n",
            "6              3                              enables EAN-13/JAN-13   \n",
            "8              4                                enables EAN-8/JAN-8   \n",
            "...          ...                                                ...   \n",
            "4064       45121                                        You can set   \n",
            "4068       45137  The scale port address must be configured for ...   \n",
            "4081       45139  This enables faster keypad emulation where cha...   \n",
            "4096      500015                                   Not Available123   \n",
            "4097      500016                                   Not Available123   \n",
            "\n",
            "     commonAttributeDetails.otherDescription  \n",
            "0                  Enables Code 39 decoding.  \n",
            "2                    Enables UPC-A decoding.  \n",
            "4                    Enables UPC-E decoding.  \n",
            "6            Enables EAN-13/JAN 13 decoding.  \n",
            "8              Enables EAN-8/JAN 8 decoding.  \n",
            "...                                      ...  \n",
            "4064                           Not Available  \n",
            "4068                           Not Available  \n",
            "4081                           Not Available  \n",
            "4096                           Not Available  \n",
            "4097                           Not Available  \n",
            "\n",
            "[480 rows x 3 columns]\n"
          ]
        }
      ]
    },
    {
      "cell_type": "code",
      "source": [
        "duplicates = 'commonAttributeDetails.description'\n",
        "\n",
        "duplicated_description = filtered_rows[duplicates][filtered_rows[duplicates].duplicated(keep=False)]\n",
        "\n",
        "duplicated_comAtr_description = filtered_rows[filtered_rows[duplicates].isin(duplicated_description)]\n",
        "print(duplicated_comAtr_description)"
      ],
      "metadata": {
        "colab": {
          "base_uri": "https://localhost:8080/"
        },
        "id": "tutgiwUlR5Pz",
        "outputId": "610e1635-3f42-45e0-ddc3-264b9c226dbb"
      },
      "execution_count": null,
      "outputs": [
        {
          "output_type": "stream",
          "name": "stdout",
          "text": [
            "     attributeID                 commonAttributeDetails.description  \\\n",
            "0              0                        enables or disables Code 39   \n",
            "112           34  Preamble characters are part of the UPC symbol...   \n",
            "114           35  Preamble characters are part of the UPC symbol...   \n",
            "116           36  Preamble characters are part of the UPC symbol...   \n",
            "944          611                        enables or disables Code 39   \n",
            "1210         684       enables scanners to read OCR-A font variants   \n",
            "1212         685       enables scanners to read OCR-A font variants   \n",
            "1368         727                                             Select   \n",
            "3708       45006                                             Select   \n",
            "3711       45007                                             Select   \n",
            "3722       45010                                             Select   \n",
            "3758       45025                                             Select   \n",
            "3819       45043                                             Select   \n",
            "3824       45044                                             Select   \n",
            "3833       45046                                             Select   \n",
            "3840       45047                                             Select   \n",
            "3846       45049                                             Select   \n",
            "4054       45116                                             Select   \n",
            "4096      500015                                   Not Available123   \n",
            "4097      500016                                   Not Available123   \n",
            "\n",
            "                commonAttributeDetails.otherDescription  \n",
            "0                             Enables Code 39 decoding.  \n",
            "112   Preamble characters are part of the UPC symbol...  \n",
            "114   Preamble characters are part of the UPC symbol...  \n",
            "116   Preamble characters are part of the UPC symbol...  \n",
            "944                                       Not Available  \n",
            "1210                        Sets one of OCR-A variants.  \n",
            "1212                        Sets one of OCR-B variants.  \n",
            "1368                                      Not Available  \n",
            "3708                                      Not Available  \n",
            "3711                                      Not Available  \n",
            "3722                                      Not Available  \n",
            "3758                                      Not Available  \n",
            "3819                                      Not Available  \n",
            "3824                                      Not Available  \n",
            "3833                                      Not Available  \n",
            "3840                                      Not Available  \n",
            "3846                                      Not Available  \n",
            "4054                                      Not Available  \n",
            "4096                                      Not Available  \n",
            "4097                                      Not Available  \n"
          ]
        }
      ]
    },
    {
      "cell_type": "code",
      "source": [
        "sorted_df = duplicated_comAtr_description.sort_values(by='commonAttributeDetails.description')\n",
        "\n",
        "print(sorted_df)\n"
      ],
      "metadata": {
        "colab": {
          "base_uri": "https://localhost:8080/"
        },
        "id": "eZXtEEk2Y4DI",
        "outputId": "e7fcefed-8e75-48d7-8183-11ce028739ec"
      },
      "execution_count": null,
      "outputs": [
        {
          "output_type": "stream",
          "name": "stdout",
          "text": [
            "     attributeID                 commonAttributeDetails.description  \\\n",
            "4097      500016                                   Not Available123   \n",
            "4096      500015                                   Not Available123   \n",
            "112           34  Preamble characters are part of the UPC symbol...   \n",
            "114           35  Preamble characters are part of the UPC symbol...   \n",
            "116           36  Preamble characters are part of the UPC symbol...   \n",
            "4054       45116                                             Select   \n",
            "3846       45049                                             Select   \n",
            "3840       45047                                             Select   \n",
            "3833       45046                                             Select   \n",
            "3824       45044                                             Select   \n",
            "3819       45043                                             Select   \n",
            "3711       45007                                             Select   \n",
            "3722       45010                                             Select   \n",
            "3708       45006                                             Select   \n",
            "1368         727                                             Select   \n",
            "3758       45025                                             Select   \n",
            "944          611                        enables or disables Code 39   \n",
            "0              0                        enables or disables Code 39   \n",
            "1212         685       enables scanners to read OCR-A font variants   \n",
            "1210         684       enables scanners to read OCR-A font variants   \n",
            "\n",
            "                commonAttributeDetails.otherDescription  \n",
            "4097                                      Not Available  \n",
            "4096                                      Not Available  \n",
            "112   Preamble characters are part of the UPC symbol...  \n",
            "114   Preamble characters are part of the UPC symbol...  \n",
            "116   Preamble characters are part of the UPC symbol...  \n",
            "4054                                      Not Available  \n",
            "3846                                      Not Available  \n",
            "3840                                      Not Available  \n",
            "3833                                      Not Available  \n",
            "3824                                      Not Available  \n",
            "3819                                      Not Available  \n",
            "3711                                      Not Available  \n",
            "3722                                      Not Available  \n",
            "3708                                      Not Available  \n",
            "1368                                      Not Available  \n",
            "3758                                      Not Available  \n",
            "944                                       Not Available  \n",
            "0                             Enables Code 39 decoding.  \n",
            "1212                        Sets one of OCR-B variants.  \n",
            "1210                        Sets one of OCR-A variants.  \n"
          ]
        }
      ]
    },
    {
      "cell_type": "code",
      "source": [
        "sorted_df.to_excel('Duplicated_values_RSM_Dictionary.xlsx', index=True)\n",
        "files.download('Duplicated_values_RSM_Dictionary.xlsx')"
      ],
      "metadata": {
        "colab": {
          "base_uri": "https://localhost:8080/",
          "height": 17
        },
        "id": "OBCqdbzSzuiw",
        "outputId": "45bcf5af-6e77-4b51-dd97-9ff82e912bbb"
      },
      "execution_count": null,
      "outputs": [
        {
          "output_type": "display_data",
          "data": {
            "text/plain": [
              "<IPython.core.display.Javascript object>"
            ],
            "application/javascript": [
              "\n",
              "    async function download(id, filename, size) {\n",
              "      if (!google.colab.kernel.accessAllowed) {\n",
              "        return;\n",
              "      }\n",
              "      const div = document.createElement('div');\n",
              "      const label = document.createElement('label');\n",
              "      label.textContent = `Downloading \"${filename}\": `;\n",
              "      div.appendChild(label);\n",
              "      const progress = document.createElement('progress');\n",
              "      progress.max = size;\n",
              "      div.appendChild(progress);\n",
              "      document.body.appendChild(div);\n",
              "\n",
              "      const buffers = [];\n",
              "      let downloaded = 0;\n",
              "\n",
              "      const channel = await google.colab.kernel.comms.open(id);\n",
              "      // Send a message to notify the kernel that we're ready.\n",
              "      channel.send({})\n",
              "\n",
              "      for await (const message of channel.messages) {\n",
              "        // Send a message to notify the kernel that we're ready.\n",
              "        channel.send({})\n",
              "        if (message.buffers) {\n",
              "          for (const buffer of message.buffers) {\n",
              "            buffers.push(buffer);\n",
              "            downloaded += buffer.byteLength;\n",
              "            progress.value = downloaded;\n",
              "          }\n",
              "        }\n",
              "      }\n",
              "      const blob = new Blob(buffers, {type: 'application/binary'});\n",
              "      const a = document.createElement('a');\n",
              "      a.href = window.URL.createObjectURL(blob);\n",
              "      a.download = filename;\n",
              "      div.appendChild(a);\n",
              "      a.click();\n",
              "      div.remove();\n",
              "    }\n",
              "  "
            ]
          },
          "metadata": {}
        },
        {
          "output_type": "display_data",
          "data": {
            "text/plain": [
              "<IPython.core.display.Javascript object>"
            ],
            "application/javascript": [
              "download(\"download_8e3ed908-75dd-468c-8713-df8ef19a0e98\", \"Duplicated_values_RSM_Dictionary.xlsx\", 5591)"
            ]
          },
          "metadata": {}
        }
      ]
    },
    {
      "cell_type": "code",
      "source": [
        "def word_count(s):\n",
        "    if isinstance(s, str):\n",
        "        return len(s.split())\n",
        "    return 0\n",
        "\n",
        "needed_values1 = df[df[column_name1].apply(word_count) > 8]\n",
        "needed_values2 = df[df[column_name2].apply(word_count) > 8]\n",
        "\n",
        "unique_values_col1 = needed_values1[column_name1].unique()\n",
        "unique_values_col2 = needed_values2[column_name2].unique()\n",
        "\n",
        "print(\"Unique values in column description:\\n\", unique_values_col1, \"\\n\")\n",
        "print(\"Unique values in column otherDescription:\\n\", unique_values_col2)\n"
      ],
      "metadata": {
        "colab": {
          "base_uri": "https://localhost:8080/",
          "height": 211
        },
        "id": "bvbHCTPP7UyN",
        "outputId": "e0e55de4-baa4-4d63-859b-bce68c969f06"
      },
      "execution_count": null,
      "outputs": [
        {
          "output_type": "error",
          "ename": "NameError",
          "evalue": "name 'column_name1' is not defined",
          "traceback": [
            "\u001b[0;31m---------------------------------------------------------------------------\u001b[0m",
            "\u001b[0;31mNameError\u001b[0m                                 Traceback (most recent call last)",
            "\u001b[0;32m<ipython-input-10-20a22f2cb7cb>\u001b[0m in \u001b[0;36m<cell line: 6>\u001b[0;34m()\u001b[0m\n\u001b[1;32m      4\u001b[0m     \u001b[0;32mreturn\u001b[0m \u001b[0;36m0\u001b[0m\u001b[0;34m\u001b[0m\u001b[0;34m\u001b[0m\u001b[0m\n\u001b[1;32m      5\u001b[0m \u001b[0;34m\u001b[0m\u001b[0m\n\u001b[0;32m----> 6\u001b[0;31m \u001b[0mneeded_values1\u001b[0m \u001b[0;34m=\u001b[0m \u001b[0mdf\u001b[0m\u001b[0;34m[\u001b[0m\u001b[0mdf\u001b[0m\u001b[0;34m[\u001b[0m\u001b[0mcolumn_name1\u001b[0m\u001b[0;34m]\u001b[0m\u001b[0;34m.\u001b[0m\u001b[0mapply\u001b[0m\u001b[0;34m(\u001b[0m\u001b[0mword_count\u001b[0m\u001b[0;34m)\u001b[0m \u001b[0;34m>\u001b[0m \u001b[0;36m8\u001b[0m\u001b[0;34m]\u001b[0m\u001b[0;34m\u001b[0m\u001b[0;34m\u001b[0m\u001b[0m\n\u001b[0m\u001b[1;32m      7\u001b[0m \u001b[0mneeded_values2\u001b[0m \u001b[0;34m=\u001b[0m \u001b[0mdf\u001b[0m\u001b[0;34m[\u001b[0m\u001b[0mdf\u001b[0m\u001b[0;34m[\u001b[0m\u001b[0mcolumn_name2\u001b[0m\u001b[0;34m]\u001b[0m\u001b[0;34m.\u001b[0m\u001b[0mapply\u001b[0m\u001b[0;34m(\u001b[0m\u001b[0mword_count\u001b[0m\u001b[0;34m)\u001b[0m \u001b[0;34m>\u001b[0m \u001b[0;36m8\u001b[0m\u001b[0;34m]\u001b[0m\u001b[0;34m\u001b[0m\u001b[0;34m\u001b[0m\u001b[0m\n\u001b[1;32m      8\u001b[0m \u001b[0;34m\u001b[0m\u001b[0m\n",
            "\u001b[0;31mNameError\u001b[0m: name 'column_name1' is not defined"
          ]
        }
      ]
    }
  ]
}